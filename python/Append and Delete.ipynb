{
 "cells": [
  {
   "cell_type": "code",
   "execution_count": 1,
   "metadata": {},
   "outputs": [],
   "source": [
    "import doctest"
   ]
  },
  {
   "cell_type": "code",
   "execution_count": 2,
   "metadata": {},
   "outputs": [],
   "source": [
    "def diff_index(s, t, i):\n",
    "    \n",
    "    if i < len(s) and i < len(t) and s[i] == t[i]:\n",
    "        to_add = len(t[i:]) if i < len(t) else 0\n",
    "        return diff_index(s, t, i + 1)\n",
    "    \n",
    "    return i"
   ]
  },
  {
   "cell_type": "code",
   "execution_count": 3,
   "metadata": {},
   "outputs": [
    {
     "data": {
      "text/plain": [
       "6"
      ]
     },
     "execution_count": 3,
     "metadata": {},
     "output_type": "execute_result"
    }
   ],
   "source": [
    "diff_index('hackerhappy', 'hackerrank', 0)"
   ]
  },
  {
   "cell_type": "code",
   "execution_count": 4,
   "metadata": {},
   "outputs": [
    {
     "data": {
      "text/plain": [
       "1"
      ]
     },
     "execution_count": 4,
     "metadata": {},
     "output_type": "execute_result"
    }
   ],
   "source": [
    "diff_index('a', 'a', 0)"
   ]
  },
  {
   "cell_type": "code",
   "execution_count": 5,
   "metadata": {},
   "outputs": [
    {
     "data": {
      "text/plain": [
       "3"
      ]
     },
     "execution_count": 5,
     "metadata": {},
     "output_type": "execute_result"
    }
   ],
   "source": [
    "diff_index('abab', 'aba', 0)"
   ]
  },
  {
   "cell_type": "code",
   "execution_count": 6,
   "metadata": {},
   "outputs": [
    {
     "data": {
      "text/plain": [
       "3"
      ]
     },
     "execution_count": 6,
     "metadata": {},
     "output_type": "execute_result"
    }
   ],
   "source": [
    "diff_index('aba', 'aba', 0)"
   ]
  },
  {
   "cell_type": "code",
   "execution_count": 7,
   "metadata": {},
   "outputs": [
    {
     "data": {
      "text/plain": [
       "2"
      ]
     },
     "execution_count": 7,
     "metadata": {},
     "output_type": "execute_result"
    }
   ],
   "source": [
    "diff_index('ab', 'abab', 0)"
   ]
  },
  {
   "cell_type": "code",
   "execution_count": 8,
   "metadata": {},
   "outputs": [
    {
     "data": {
      "text/plain": [
       "0"
      ]
     },
     "execution_count": 8,
     "metadata": {},
     "output_type": "execute_result"
    }
   ],
   "source": [
    "diff_index('a', 'b', 0)"
   ]
  },
  {
   "cell_type": "code",
   "execution_count": 9,
   "metadata": {},
   "outputs": [],
   "source": [
    "def appendAndDelete(s, t, k):\n",
    "    '''\n",
    "    Test case 1:\n",
    "    >>> appendAndDelete('hackerhappy', 'hackerrank', 9)\n",
    "    'Yes'\n",
    "    \n",
    "    Test case 1.1:\n",
    "    >>> appendAndDelete('hackerhappy', 'hackerrank', 10)\n",
    "    'No'\n",
    "    \n",
    "    Test case 2:\n",
    "    >>> appendAndDelete('aba', 'aba', 7)\n",
    "    'Yes'\n",
    "    \n",
    "    Test case 3:\n",
    "    >>> appendAndDelete('ashley', 'ash', 2)\n",
    "    'No'\n",
    "    \n",
    "    Test case 4:\n",
    "    >>> appendAndDelete('a', 'a', 1)\n",
    "    'No'\n",
    "    \n",
    "    Test case 4.2:\n",
    "    >>> appendAndDelete('a', 'a', 2)\n",
    "    'Yes'\n",
    "    \n",
    "    Test case 4.3:\n",
    "    >>> appendAndDelete('a', 'a', 10)\n",
    "    'Yes'\n",
    "    \n",
    "    Test case 5:\n",
    "    >>> appendAndDelete('qwerasdf', 'qwerbsdf', 6)\n",
    "    'No'\n",
    "    '''\n",
    "    len_s = len(s)\n",
    "    len_t = len(t)\n",
    "    \n",
    "    if len_s + len_t <= k:\n",
    "        return 'Yes'\n",
    "    \n",
    "    i = diff_index(s, t, 0)\n",
    "    diff = len_s - i + len_t - i\n",
    "    if diff <= k and (k - diff) % 2 == 0:\n",
    "        return 'Yes'\n",
    "    return 'No'\n",
    "    "
   ]
  },
  {
   "cell_type": "code",
   "execution_count": 10,
   "metadata": {},
   "outputs": [
    {
     "name": "stdout",
     "output_type": "stream",
     "text": [
      "Trying:\n",
      "    appendAndDelete('hackerhappy', 'hackerrank', 9)\n",
      "Expecting:\n",
      "    'Yes'\n",
      "ok\n",
      "Trying:\n",
      "    appendAndDelete('hackerhappy', 'hackerrank', 10)\n",
      "Expecting:\n",
      "    'No'\n",
      "ok\n",
      "Trying:\n",
      "    appendAndDelete('aba', 'aba', 7)\n",
      "Expecting:\n",
      "    'Yes'\n",
      "ok\n",
      "Trying:\n",
      "    appendAndDelete('ashley', 'ash', 2)\n",
      "Expecting:\n",
      "    'No'\n",
      "ok\n",
      "Trying:\n",
      "    appendAndDelete('a', 'a', 1)\n",
      "Expecting:\n",
      "    'No'\n",
      "ok\n",
      "Trying:\n",
      "    appendAndDelete('a', 'a', 2)\n",
      "Expecting:\n",
      "    'Yes'\n",
      "ok\n",
      "Trying:\n",
      "    appendAndDelete('a', 'a', 10)\n",
      "Expecting:\n",
      "    'Yes'\n",
      "ok\n",
      "Trying:\n",
      "    appendAndDelete('qwerasdf', 'qwerbsdf', 6)\n",
      "Expecting:\n",
      "    'No'\n",
      "ok\n",
      "2 items had no tests:\n",
      "    __main__\n",
      "    __main__.diff_index\n",
      "1 items passed all tests:\n",
      "   8 tests in __main__.appendAndDelete\n",
      "8 tests in 3 items.\n",
      "8 passed and 0 failed.\n",
      "Test passed.\n"
     ]
    },
    {
     "data": {
      "text/plain": [
       "TestResults(failed=0, attempted=8)"
      ]
     },
     "execution_count": 10,
     "metadata": {},
     "output_type": "execute_result"
    }
   ],
   "source": [
    "doctest.testmod(verbose=True)"
   ]
  }
 ],
 "metadata": {
  "kernelspec": {
   "display_name": "Python 3",
   "language": "python",
   "name": "python3"
  },
  "language_info": {
   "codemirror_mode": {
    "name": "ipython",
    "version": 3
   },
   "file_extension": ".py",
   "mimetype": "text/x-python",
   "name": "python",
   "nbconvert_exporter": "python",
   "pygments_lexer": "ipython3",
   "version": "3.7.0"
  }
 },
 "nbformat": 4,
 "nbformat_minor": 2
}
