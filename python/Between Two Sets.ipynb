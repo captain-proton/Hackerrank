{
 "cells": [
  {
   "cell_type": "code",
   "execution_count": 1,
   "metadata": {},
   "outputs": [],
   "source": [
    "import doctest"
   ]
  },
  {
   "cell_type": "code",
   "execution_count": 2,
   "metadata": {},
   "outputs": [],
   "source": [
    "def is_factor(arr, value):\n",
    "    for element in arr:\n",
    "        if element % value != 0:\n",
    "            return False\n",
    "    return True"
   ]
  },
  {
   "cell_type": "code",
   "execution_count": 3,
   "metadata": {},
   "outputs": [],
   "source": [
    "def are_factors(arr, value):\n",
    "    for element in arr:\n",
    "        if value % element != 0:\n",
    "            return False\n",
    "    return True"
   ]
  },
  {
   "cell_type": "code",
   "execution_count": 8,
   "metadata": {},
   "outputs": [],
   "source": [
    "#\n",
    "# Complete the getTotalX function below.\n",
    "#\n",
    "def getTotalX(a, b):\n",
    "    '''\n",
    "    Test case 1:\n",
    "    >>> getTotalX([2, 6], [24, 36])\n",
    "    2\n",
    "    \n",
    "    Test case 2:\n",
    "    >>> getTotalX([2, 4], [16, 32, 96])\n",
    "    3\n",
    "    \n",
    "    Test case 3:\n",
    "    >>> getTotalX([1], [100])\n",
    "    9\n",
    "    '''\n",
    "    total = 0\n",
    "    for i in range(1, min(b) + 1):\n",
    "        if is_factor(b, i) and are_factors(a, i):\n",
    "            total += 1\n",
    "    print(total)"
   ]
  },
  {
   "cell_type": "code",
   "execution_count": 9,
   "metadata": {},
   "outputs": [
    {
     "data": {
      "text/plain": [
       "TestResults(failed=0, attempted=3)"
      ]
     },
     "execution_count": 9,
     "metadata": {},
     "output_type": "execute_result"
    }
   ],
   "source": [
    "doctest.testmod()"
   ]
  }
 ],
 "metadata": {
  "kernelspec": {
   "display_name": "Python 3",
   "language": "python",
   "name": "python3"
  },
  "language_info": {
   "codemirror_mode": {
    "name": "ipython",
    "version": 3
   },
   "file_extension": ".py",
   "mimetype": "text/x-python",
   "name": "python",
   "nbconvert_exporter": "python",
   "pygments_lexer": "ipython3",
   "version": "3.7.0"
  }
 },
 "nbformat": 4,
 "nbformat_minor": 2
}
