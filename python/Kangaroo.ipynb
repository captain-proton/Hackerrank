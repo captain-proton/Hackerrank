{
 "cells": [
  {
   "cell_type": "code",
   "execution_count": 1,
   "metadata": {},
   "outputs": [],
   "source": [
    "import doctest"
   ]
  },
  {
   "cell_type": "code",
   "execution_count": 2,
   "metadata": {},
   "outputs": [],
   "source": [
    "def kangaroo(x1, v1, x2, v2):\n",
    "    '''\n",
    "    Test case 1:\n",
    "    >>> kangaroo(0, 3, 4, 2)\n",
    "    'YES'\n",
    "    \n",
    "    Test case 2:\n",
    "    >>> kangaroo(0, 2, 5, 3)\n",
    "    'NO'\n",
    "    '''\n",
    "    if x1 < x2 and v1 < v2:\n",
    "        return 'NO'\n",
    "\n",
    "    if x2 < x1 and v2 < v1:\n",
    "        return 'NO'\n",
    "    \n",
    "    if x1 != x2 and v1 == v2:\n",
    "        return 'NO'\n",
    "    \n",
    "    if x1 == x2 and v1 == v2:\n",
    "        return 'YES'\n",
    "    \n",
    "    x = float((x1 - x2)) / (v2 - v1)\n",
    "    if x > 0 and x <= 10000 and x % 1 == 0:\n",
    "        return 'YES'\n",
    "    return 'NO'"
   ]
  },
  {
   "cell_type": "code",
   "execution_count": 3,
   "metadata": {},
   "outputs": [
    {
     "name": "stdout",
     "output_type": "stream",
     "text": [
      "Trying:\n",
      "    kangaroo(0, 3, 4, 2)\n",
      "Expecting:\n",
      "    'YES'\n",
      "ok\n",
      "Trying:\n",
      "    kangaroo(0, 2, 5, 3)\n",
      "Expecting:\n",
      "    'NO'\n",
      "ok\n",
      "1 items had no tests:\n",
      "    __main__\n",
      "1 items passed all tests:\n",
      "   2 tests in __main__.kangaroo\n",
      "2 tests in 2 items.\n",
      "2 passed and 0 failed.\n",
      "Test passed.\n"
     ]
    },
    {
     "data": {
      "text/plain": [
       "TestResults(failed=0, attempted=2)"
      ]
     },
     "execution_count": 3,
     "metadata": {},
     "output_type": "execute_result"
    }
   ],
   "source": [
    "doctest.testmod(verbose=True)"
   ]
  }
 ],
 "metadata": {
  "kernelspec": {
   "display_name": "Python 3",
   "language": "python",
   "name": "python3"
  },
  "language_info": {
   "codemirror_mode": {
    "name": "ipython",
    "version": 3
   },
   "file_extension": ".py",
   "mimetype": "text/x-python",
   "name": "python",
   "nbconvert_exporter": "python",
   "pygments_lexer": "ipython3",
   "version": "3.7.0"
  }
 },
 "nbformat": 4,
 "nbformat_minor": 2
}
